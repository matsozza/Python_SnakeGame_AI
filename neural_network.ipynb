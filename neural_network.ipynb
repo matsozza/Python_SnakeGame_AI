{
 "cells": [
  {
   "cell_type": "code",
   "execution_count": 1,
   "metadata": {},
   "outputs": [
    {
     "name": "stdout",
     "output_type": "stream",
     "text": [
      "WARNING:tensorflow:From c:\\Users\\Jennifer\\AppData\\Local\\Programs\\Python\\Python311\\Lib\\site-packages\\keras\\src\\losses.py:2976: The name tf.losses.sparse_softmax_cross_entropy is deprecated. Please use tf.compat.v1.losses.sparse_softmax_cross_entropy instead.\n",
      "\n"
     ]
    }
   ],
   "source": [
    "import numpy as np\n",
    "from keras.models import Sequential\n",
    "from keras.layers import Dense\n",
    "#import tensorflow as tf\n",
    "#import sklearn as sk\n",
    "\n",
    "# Snake Game - Training Model\n",
    "# 12 inputs\n",
    "# 4 outputs: new direction\n",
    "def nn_model():\n",
    "    model = Sequential()\n",
    "    model.add(Dense(units=128, activation='relu', input_shape=(12,)))\n",
    "    model.add(Dense(units=4, activation='softmax')) # UP DOWN LEFT RIGHT\n",
    "    return model\n",
    "\n",
    "\n",
    "\n",
    "def nn_mutate(nn_model, mutation_rate, mutation_size):\n",
    "    layers = nn_model.layers\n",
    "    # Sweep each layer of the architecture\n",
    "    for idx, layer in enumerate(layers):\n",
    "        l_weights = layer.get_weights()[0] # weights in the given layer (2D)\n",
    "        l_biases = layer.get_weights()[1] # biases in the given layer (1D)\n",
    "        #print(\"Total weights in layer: \", str(np.shape(l_weights)[0] * np.shape(l_weights)[1]))\n",
    "\n",
    "        # Loop into each weight in the current layer and apply mutation\n",
    "        for w_row in np.arange(np.shape(l_weights)[0]):\n",
    "            for w_col in np.arange(np.shape(l_weights)[1]):\n",
    "                if np.random.binomial(1, mutation_rate) == 1: # Mutate\n",
    "                    w = l_weights[w_row][w_col]\n",
    "                    #w_old = w\n",
    "                    \n",
    "                    # Generate a mutation and bound it within +-1\n",
    "                    w = np.random.normal(w, mutation_size)\n",
    "                    if w > 1:\n",
    "                        w = 1\n",
    "                    elif w < -1:\n",
    "                        w = -1\n",
    "                    #print(\"W_before -> \", str(w_old), \" w_aft ->\", str(w))\n",
    "\n",
    "                    l_weights[w_row][w_col] = w\n",
    "        layer.set_weights([l_weights, l_biases])\n",
    "\n",
    "def nn_get_output(model, inputs):\n",
    "    inputs = np.array(inputs).reshape([1, -1])\n",
    "    output = model.predict(inputs, verbose = 0)\n",
    "    #print(\"nn_get_output -> \", output, \" --- \", np.argmax(output, axis = 1))\n",
    "    #print(\"Output: \", output)\n",
    "    return np.argmax(output, axis = 1)"
   ]
  },
  {
   "cell_type": "code",
   "execution_count": 3,
   "metadata": {},
   "outputs": [
    {
     "name": "stdout",
     "output_type": "stream",
     "text": [
      "-------- \n",
      "Model 1  [1]\n",
      "Model 2  [0]\n",
      "-------- \n",
      "Model 1 mutated [1]\n",
      "Model 2 mutated [0]\n"
     ]
    }
   ],
   "source": [
    "# Create a model\n",
    "model = nn_model()\n",
    "model2 = nn_model()\n",
    "\n",
    "# To feed the model, create an array and reshape it as a tensor\n",
    "tinp = np.array([1,1,1,1,1,1,1,1,1,1,1,1])\n",
    "tinp = np.reshape(tinp, [1,-1])\n",
    "\n",
    "print(\"-------- \")\n",
    "print(\"Model 1 \", nn_get_output(model, tinp))\n",
    "print(\"Model 2 \", nn_get_output(model2, tinp))\n",
    "\n",
    "# Generate mutations\n",
    "nn_mutate(model, 0.1, 0.2)\n",
    "nn_mutate(model2, 0.1, 0.3)\n",
    "\n",
    "print(\"-------- \")\n",
    "print(\"Model 1 mutated\", nn_get_output(model, tinp))\n",
    "print(\"Model 2 mutated\", nn_get_output(model2, tinp))\n"
   ]
  },
  {
   "cell_type": "code",
   "execution_count": 6,
   "metadata": {},
   "outputs": [],
   "source": [
    "for i in range(50):\n",
    "    a = model.get_weights()\n",
    "    model.set_weights(a)\n",
    "    "
   ]
  }
 ],
 "metadata": {
  "kernelspec": {
   "display_name": "Python 3",
   "language": "python",
   "name": "python3"
  },
  "language_info": {
   "codemirror_mode": {
    "name": "ipython",
    "version": 3
   },
   "file_extension": ".py",
   "mimetype": "text/x-python",
   "name": "python",
   "nbconvert_exporter": "python",
   "pygments_lexer": "ipython3",
   "version": "3.9.2"
  }
 },
 "nbformat": 4,
 "nbformat_minor": 2
}
