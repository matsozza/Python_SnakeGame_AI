{
 "cells": [
  {
   "cell_type": "code",
   "execution_count": 77,
   "metadata": {},
   "outputs": [],
   "source": [
    "import numpy as np\n",
    "from keras.models import Sequential\n",
    "from keras.layers import Dense\n",
    "from keras.optimizers import Adam\n",
    "from keras.datasets import mnist\n",
    "import tensorflow as tf\n",
    "\n",
    "# Snake Game - Training Model\n",
    "# 8 inputs: Current snake position in table (2) + current food position in table (2) + Current direction (4)\n",
    "# 4 outputs: new direction\n",
    "def snake_model():\n",
    "    model = Sequential()\n",
    "    model.add(Dense(units=4, activation='relu', input_shape=(8,)))\n",
    "    model.add(Dense(units=4, activation='softmax')) # UP DOWN LEFT RIGHT\n",
    "    #model.compile(optimizer=Adam(learning_rate=0.001), loss='categorical_crossentropy', metrics=['accuracy'])\n",
    "    return model\n",
    "\n",
    "model = snake_model()\n",
    "model2 = snake_model()\n",
    "\n",
    "def gen_mutant(parent_model, mutation_rate, mutation_size):\n",
    "    layers = parent_model.layers\n",
    "    # Sweep each layer of the architecture\n",
    "    for idx, layer in enumerate(layers):\n",
    "        l_weights = layer.get_weights()[0] # weights in the given layer (2D)\n",
    "        l_biases = layer.get_weights()[1] # biases in the given layer (1D)\n",
    "        print(\"Total weights in layer: \", str(np.shape(l_weights)[0] * np.shape(l_weights)[1]))\n",
    "\n",
    "        # Loop into each weight in the current layer and apply mutation\n",
    "        for w_row in np.arange(np.shape(l_weights)[0]):\n",
    "            for w_col in np.arange(np.shape(l_weights)[1]):\n",
    "                if np.random.binomial(1, mutation_rate) == 1: # Mutate\n",
    "                    w = l_weights[w_row][w_col]\n",
    "                    w_old = w\n",
    "                    \n",
    "                    # Generate a mutation and bound it within +-1\n",
    "                    w = np.random.normal(w, mutation_size)\n",
    "                    if w > 1:\n",
    "                        w = 1\n",
    "                    elif w < -1:\n",
    "                        w = -1\n",
    "                    print(\"W_before -> \", str(w_old), \" w_aft ->\", str(w))\n",
    "\n",
    "                    l_weights[w_row][w_col] = w\n",
    "        layer.set_weights([l_weights, l_biases])"
   ]
  },
  {
   "cell_type": "code",
   "execution_count": 78,
   "metadata": {},
   "outputs": [
    {
     "name": "stdout",
     "output_type": "stream",
     "text": [
      "1/1 [==============================] - 0s 124ms/step\n",
      "Model 1  [[0.14180042 0.23385304 0.18316188 0.4411847 ]]\n",
      "1/1 [==============================] - 0s 129ms/step\n",
      "Model 2  [[0.24703602 0.2913965  0.27042577 0.19114171]]\n"
     ]
    }
   ],
   "source": [
    "# Generate mutations\n",
    "#gen_mutant(model, 0.1, 0.2)\n",
    "\n",
    "# To feed the model, create an array and reshape it as a tensor\n",
    "tinp = np.array([1,1,1,1,1,1,1,1])\n",
    "tinp = np.reshape(tinp, [1,-1])\n",
    "\n",
    "print(\"Model 1 \", model.predict(tinp))\n",
    "print(\"Model 2 \", model2.predict(tinp))\n"
   ]
  },
  {
   "cell_type": "code",
   "execution_count": null,
   "metadata": {},
   "outputs": [],
   "source": []
  }
 ],
 "metadata": {
  "kernelspec": {
   "display_name": "Python 3",
   "language": "python",
   "name": "python3"
  },
  "language_info": {
   "codemirror_mode": {
    "name": "ipython",
    "version": 3
   },
   "file_extension": ".py",
   "mimetype": "text/x-python",
   "name": "python",
   "nbconvert_exporter": "python",
   "pygments_lexer": "ipython3",
   "version": "3.9.2"
  }
 },
 "nbformat": 4,
 "nbformat_minor": 2
}
