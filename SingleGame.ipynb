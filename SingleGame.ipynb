{
 "cells": [
  {
   "cell_type": "code",
   "execution_count": 1,
   "metadata": {},
   "outputs": [
    {
     "name": "stdout",
     "output_type": "stream",
     "text": [
      "pygame 2.6.1 (SDL 2.28.4, Python 3.9.12)\n",
      "Hello from the pygame community. https://www.pygame.org/contribute.html\n"
     ]
    }
   ],
   "source": [
    "# region ----------Imports ----------\n",
    "from SnakeBoard import SnakeBoard\n",
    "from SnakeGame import SnakeGame\n",
    "from NeuralNetwork import NeuralNetwork\n",
    "import pygame\n",
    "import numpy as np\n",
    "import matplotlib.pyplot as plt\n",
    "#endregion\n",
    "\n",
    "# Plot histograms comparing different populations (list of populations)\n",
    "def plot_game_histograms(games_data):\n",
    "    \"\"\"\n",
    "    Plot histograms for a list of arrays, each representing data for a different game.\n",
    "    \n",
    "    Parameters:\n",
    "    games_data (list of np.array): List of arrays where each array contains data for a game.\n",
    "    \"\"\"\n",
    "    num_games = len(games_data)\n",
    "    fig, axs = plt.subplots(num_games, figsize=(5, 6), sharex=True)\n",
    "\n",
    "    if num_games == 1:\n",
    "        axs = [axs]\n",
    "\n",
    "    for i, data in enumerate(games_data):\n",
    "        axs[i].hist(data, bins=30, edgecolor='black')\n",
    "        axs[i].set_title(f'Game {i+1} Histogram')\n",
    "        axs[i].set_ylabel('Frequency')\n",
    "        axs[i].set_xlabel('Score')\n",
    "    axs[-1].set_xlabel('Value')\n",
    "    plt.tight_layout()\n",
    "    plt.show()\n",
    "\n",
    "# Run a single game instance until game over\n",
    "def run_game(s_game, s_ann, s_board, show_visuals, manual_play):\n",
    "    while True:     \n",
    "        # Get current game state \n",
    "        state = s_game.get_game_state()\n",
    "        \n",
    "        # If showing visuals, get key\n",
    "        # (even in auto-play mode it's important to don't freeze - pygame needs to be queried to events every ~5s)\n",
    "        if show_visuals:\n",
    "            next_move = get_key()            \n",
    "        \n",
    "        # Detect pause behavior\n",
    "        if manual_play == 1 and next_move == \"PAUSE\":\n",
    "            while 1:\n",
    "                next_move = get_key()\n",
    "                if next_move != \"IDLE\":\n",
    "                    break                    \n",
    "        elif manual_play == 0:    \n",
    "            # Feed ANN with game state and calc. next move\n",
    "            next_move = s_ann.calculate(state) \n",
    "\n",
    "        # Step game based on ANN input \n",
    "        [game_over, w_score, score] = s_game.step_game(next_move)\n",
    "\n",
    "        # Update graphics of all games (visual feedback)\n",
    "        s_board.clear_board()\n",
    "        s_board.update_board_elements()\n",
    "\n",
    "        # If all game instances are over, finish current generation\n",
    "        if game_over:\n",
    "            break\n",
    "    \n",
    "    return {\"game_over\":    game_over, \n",
    "            \"score\":        score, \n",
    "            \"w_score\":      w_score}\n",
    "\n",
    "# Get key event for manual play    \n",
    "def get_key():\n",
    "    for event in pygame.event.get():\n",
    "        if event.type == pygame.KEYDOWN:\n",
    "            if event.key == pygame.K_UP:\n",
    "                return 'UP'\n",
    "            if event.key == pygame.K_DOWN:\n",
    "                return 'DOWN'\n",
    "            if event.key == pygame.K_LEFT:\n",
    "                return 'LEFT'\n",
    "            if event.key == pygame.K_RIGHT:\n",
    "                return 'RIGHT'\n",
    "            if event.key == pygame.K_p:\n",
    "                return 'PAUSE'\n",
    "            if event.key == pygame.K_SPACE:\n",
    "                pygame.quit()\n",
    "                quit()\n",
    "    return 'IDLE'"
   ]
  },
  {
   "cell_type": "code",
   "execution_count": 2,
   "metadata": {},
   "outputs": [],
   "source": [
    "\n",
    "\n",
    "# Run a certain number of games instances using a certain \"DNA\" to extract tis results statistically. \n",
    "# Them, repeat with another \"DNA set\"\n",
    "\n",
    "# DNA 1\n",
    "game, ann = SnakeGame(), NeuralNetwork()\n",
    "board = SnakeBoard([game], False)\n",
    "board.init_board()\n",
    "ann.load_weights_biases(\"./experiment_data_testdel/Gen_528/ANN_1_score_33.npz\") # Exp 1\n",
    "scores_1 = []\n",
    "for i in range(100):\n",
    "    scores_1.append(run_game(game, ann, board, False, False))\n",
    "    game.reset_game()\n",
    "    \n",
    "# DNA 2\n",
    "game, ann = SnakeGame(), NeuralNetwork()\n",
    "board = SnakeBoard([game], False)\n",
    "board.init_board()\n",
    "#ann.load_weights_biases(\"./experiment_data_testdel2/Gen_210/ANN_2400_score_1.npz\") # Exp 2\n",
    "ann.load_weights_biases(\"./experiment_data_testdel/Gen_528/ANN_900_score_5.npz\") # Exp 2\n",
    "scores_2 = []\n",
    "for i in range(100):\n",
    "    scores_2.append(run_game(game, ann, board, False, False))\n",
    "    game.reset_game()"
   ]
  },
  {
   "cell_type": "code",
   "execution_count": 3,
   "metadata": {},
   "outputs": [
    {
     "data": {
      "image/png": "[encoded data removed]",
      "text/plain": [
       "<Figure size 500x600 with 2 Axes>"
      ]
     },
     "metadata": {},
     "output_type": "display_data"
    }
   ],
   "source": [
    "# Compare the results of both \"DNAs\" in a histogram\n",
    "plot_game_histograms([\n",
    "    [g['score'] for g in scores_1],\n",
    "    [g['score'] for g in scores_2],\n",
    "    ])"
   ]
  }
 ],
 "metadata": {
  "kernelspec": {
   "display_name": "snake_ai",
   "language": "python",
   "name": "python3"
  },
  "language_info": {
   "codemirror_mode": {
    "name": "ipython",
    "version": 3
   },
   "file_extension": ".py",
   "mimetype": "text/x-python",
   "name": "python",
   "nbconvert_exporter": "python",
   "pygments_lexer": "ipython3",
   "version": "3.9.12"
  }
 },
 "nbformat": 4,
 "nbformat_minor": 2
}
