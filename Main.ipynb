{
 "cells": [
  {
   "cell_type": "code",
   "execution_count": 1,
   "metadata": {},
   "outputs": [
    {
     "name": "stdout",
     "output_type": "stream",
     "text": [
      "pygame 2.6.1 (SDL 2.28.4, Python 3.9.12)\n",
      "Hello from the pygame community. https://www.pygame.org/contribute.html\n"
     ]
    }
   ],
   "source": [
    "from SnakeBoard import SnakeBoard\n",
    "from SnakeGame import SnakeGame\n",
    "from NeuralNetwork import NeuralNetwork\n",
    "import numpy as np\n",
    "import time\n",
    "import matplotlib.pyplot as plt\n",
    "import pickle"
   ]
  },
  {
   "cell_type": "code",
   "execution_count": 2,
   "metadata": {},
   "outputs": [],
   "source": [
    "# ---------- User defined parameters ----------\n",
    "# Miscellaneous parameters\n",
    "restore_weights_prev_training = 0\n",
    "manual_play = 0 # Get user input (keyboard) instead of neural network auto-play\n",
    "show_visuals = 1 # Show the games (1) or just play and calculated in the back-end (0)\n",
    "t_between_gen = 0 # Time (secs) between generations\n",
    "n_gens_2_save_weights = 5 # Num of generations elapsed to save weights in a file\n",
    "\n",
    "# Training parameters\n",
    "n_of_gens = 5000 # Number of training generations\n",
    "n_games_per_gen = 10 # Number of parallel games per generation\n",
    "selected_games_per_gen = 2 # Selected baselines per generation to be used as references for mutations\n",
    "\n",
    "# Mutation parameters\n",
    "mrate_bias, mrate_weights = 0.05, 0.05\n",
    "msize_bias, msize_weights = 0.2, 0.2"
   ]
  },
  {
   "cell_type": "code",
   "execution_count": 3,
   "metadata": {},
   "outputs": [
    {
     "name": "stdout",
     "output_type": "stream",
     "text": [
      "SnakeBoard instance created.\n"
     ]
    },
    {
     "ename": "NameError",
     "evalue": "name 'state2' is not defined",
     "output_type": "error",
     "traceback": [
      "\u001b[1;31m---------------------------------------------------------------------------\u001b[0m",
      "\u001b[1;31mNameError\u001b[0m                                 Traceback (most recent call last)",
      "Cell \u001b[1;32mIn[3], line 37\u001b[0m\n\u001b[0;32m     33\u001b[0m \u001b[38;5;28;01mfor\u001b[39;00m idx_game, game \u001b[38;5;129;01min\u001b[39;00m \u001b[38;5;28menumerate\u001b[39m(s_games):\n\u001b[0;32m     34\u001b[0m     \u001b[38;5;66;03m#1_1_1 Get current game state and decide the next move\u001b[39;00m\n\u001b[0;32m     35\u001b[0m     state \u001b[38;5;241m=\u001b[39m game\u001b[38;5;241m.\u001b[39mget_game_state()\n\u001b[1;32m---> 37\u001b[0m     \u001b[38;5;28mprint\u001b[39m(state, \u001b[43mstate2\u001b[49m)\n\u001b[0;32m     39\u001b[0m     \u001b[38;5;28;01mif\u001b[39;00m show_visuals:\n\u001b[0;32m     40\u001b[0m         next_move \u001b[38;5;241m=\u001b[39m game\u001b[38;5;241m.\u001b[39mget_key()            \n",
      "\u001b[1;31mNameError\u001b[0m: name 'state2' is not defined"
     ]
    }
   ],
   "source": [
    "# ---------- Machine Learning main logic ---------- \n",
    "# Restore weights from previous training if required\n",
    "if restore_weights_prev_training == 1:\n",
    "    with open('./trainingHistory.bin', 'rb') as file:\n",
    "        fileDataLoaded = pickle.load(file)\n",
    "        file.close()\n",
    "\n",
    "# Create 'N' games + their ANN instances\n",
    "record_score, record_w_score = 0, 0\n",
    "s_games, s_ann = [] , []\n",
    "for idx in range(n_games_per_gen):\n",
    "    s_games.append(SnakeGame())\n",
    "    s_ann.append(NeuralNetwork())\n",
    "    if restore_weights_prev_training == 1:\n",
    "        s_ann[idx].set_weights_biases(fileDataLoaded[\"ann_weights_history\"][-1][idx].weights,\n",
    "                                      fileDataLoaded[\"ann_weights_history\"][-1][idx].biases)\n",
    "s_board = SnakeBoard(s_games, show_visuals)\n",
    "\n",
    "# Create history of the best scores and ANN weights\n",
    "game_status_history, ann_weights_history = list(), list()\n",
    "if restore_weights_prev_training == 1:\n",
    "    game_status_history = fileDataLoaded[\"game_status_history\"]\n",
    "    ann_weights_history = fileDataLoaded[\"ann_weights_history\"]\n",
    "\n",
    "s_board.init_board()\n",
    "\n",
    "# Run number of generations\n",
    "for idx_gen in range(n_of_gens):\n",
    "    # 1 Step all games in current generation (until all games are over)\n",
    "    while True:     \n",
    "        game_status = list() \n",
    "        # 1_1 Go into each game to step individually\n",
    "        for idx_game, game in enumerate(s_games):\n",
    "            #1_1_1 Get current game state and decide the next move\n",
    "            state = game.get_game_state()\n",
    "            \n",
    "            if show_visuals:\n",
    "                next_move = game.get_key()            \n",
    "            \n",
    "            if manual_play == 1 and next_move == \"PAUSE\":\n",
    "                while 1:\n",
    "                    next_move = game.get_key()\n",
    "                    if next_move != \"IDLE\":\n",
    "                        break                    \n",
    "            else:    \n",
    "                next_move = s_ann[idx_game].calculate(state) \n",
    "\n",
    "            #1_1_2 Step game instance based on ANN calc. next move \n",
    "            [game_over, w_score, score] = game.step_game(next_move)\n",
    "\n",
    "            #1_1_3 Save game data in game status dictionary array\n",
    "            game_status.append({\"game_over\":    game_over, \n",
    "                                \"score\":        score, \n",
    "                                \"w_score\":      w_score, \n",
    "                                \"idx_game\":     idx_game})       \n",
    "\n",
    "        # 1_2 Update graphics of all games (visual feedback)\n",
    "        s_board.clear_board()\n",
    "        s_board.update_board_elements()\n",
    "\n",
    "        # 1_3 If all game instances are over, finish current generation\n",
    "        if np.min([g[\"game_over\"] for g in game_status])==True:\n",
    "            break\n",
    "    \n",
    "    # 2 Get best scores and ANN weights in prev. generation + save history for the last generation\n",
    "    game_status.sort(key=lambda x:x[\"w_score\"],reverse =True) # Sort from best to worst game\n",
    "    game_status_history.append(list(o.copy() for o in game_status)) # Game status history copy\n",
    "    ann_weights_history.append(list(o.copy() for o in s_ann)) # ANN weights history copy\n",
    "\n",
    "    # 3 If best score in curr. gen is an all-time record, save it\n",
    "    #if game_status[0][\"w_score\"] > record_w_score: # Based on weighed score\n",
    "    if game_status[0][\"score\"] > record_score: # Based on normal score\n",
    "        record_w_score = game_status[0][\"w_score\"]\n",
    "        record_score = game_status[0][\"score\"]\n",
    "    \n",
    "    # 4 Get the best \"selected_games_per_gen\" games in the current generation\n",
    "    # and place them in the first positions\n",
    "    for i in range(selected_games_per_gen):\n",
    "        s_ann[i] = s_ann[game_status[i][\"idx_game\"]].copy()\n",
    "    \n",
    "    # 5 Mutate the best ones in the subsequent positions\n",
    "    for i in range(selected_games_per_gen, n_games_per_gen):\n",
    "        s_ann[i] = s_ann[np.mod(i,selected_games_per_gen)].copy()\n",
    "        s_ann[i].mutate(mrate_weights, msize_weights, mrate_bias, msize_bias) # random mutations\n",
    "\n",
    "    # 6 Reset all games\n",
    "    for idx_game, game in enumerate(s_games):\n",
    "        game.reset_game()\n",
    "\n",
    "    # 7 Save weights in an external file when applicable\n",
    "    if np.mod(idx_gen,n_gens_2_save_weights)==0:\n",
    "        with open('./trainingHistory.bin', 'wb') as file:\n",
    "            fileData = {\"game_status_history\": game_status_history, \n",
    "                        \"ann_weights_history\": ann_weights_history}\n",
    "            pickle.dump(fileData, file)\n",
    "            file.close()\n",
    "    \n",
    "    print(\"GEN \", idx_gen, \" --- BEST SCORE: \", game_status[0][\"score\"] , \" / \", \n",
    "            game_status[0][\"w_score\"] , \" --- RECORD: \", record_score, \" / \", record_w_score)\n",
    "    time.sleep(t_between_gen)\n",
    "\n",
    "s_board.quit_board()"
   ]
  }
 ],
 "metadata": {
  "kernelspec": {
   "display_name": "Python 3",
   "language": "python",
   "name": "python3"
  },
  "language_info": {
   "codemirror_mode": {
    "name": "ipython",
    "version": 3
   },
   "file_extension": ".py",
   "mimetype": "text/x-python",
   "name": "python",
   "nbconvert_exporter": "python",
   "pygments_lexer": "ipython3",
   "version": "3.9.12"
  }
 },
 "nbformat": 4,
 "nbformat_minor": 2
}
