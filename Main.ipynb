{
 "cells": [
  {
   "cell_type": "code",
   "execution_count": 1,
   "metadata": {},
   "outputs": [
    {
     "name": "stdout",
     "output_type": "stream",
     "text": [
      "pygame 2.5.2 (SDL 2.28.3, Python 3.9.2)\n",
      "Hello from the pygame community. https://www.pygame.org/contribute.html\n"
     ]
    }
   ],
   "source": [
    "from SnakeBoard import SnakeBoard\n",
    "from SnakeGame import SnakeGame\n",
    "from NeuralNetwork import NeuralNetwork\n",
    "import numpy as np\n",
    "import time\n",
    "import matplotlib.pyplot as plt"
   ]
  },
  {
   "cell_type": "code",
   "execution_count": 2,
   "metadata": {},
   "outputs": [],
   "source": [
    "# ---------- User defined parameters ----------\n",
    "# Miscellaneous parameters\n",
    "restore_weights_prev_training = 0\n",
    "manual_play = 0 # Get user input (keyboard) instead of neural network auto-play\n",
    "show_visuals = 0 # Show the games (1) or just play and calculated in the back-end (0)\n",
    "t_between_gen = 0 # Time (secs) between generations\n",
    "n_gens_2_save_weights = 25 # Num of generations elapsed to save weights in a file\n",
    "\n",
    "# Training parameters\n",
    "n_of_gens = 5000 # Number of training generations\n",
    "n_games_per_gen = 5000 # Number of parallel games per generation\n",
    "selected_games_per_gen = 25 # Selected baselines per generation to be used as references for mutations\n",
    "\n",
    "# Mutation parameters\n",
    "mrate_bias = 0.1\n",
    "mrate_weights = 0.1\n",
    "msize_bias = 0.1\n",
    "msize_weights = 0.1"
   ]
  },
  {
   "cell_type": "code",
   "execution_count": 3,
   "metadata": {},
   "outputs": [
    {
     "name": "stdout",
     "output_type": "stream",
     "text": [
      "SnakeBoard instance created.\n",
      "GEN  0  --- BEST SCORE:  17  /  535  --- RECORD:  0  /  0\n",
      "GEN  1  --- BEST SCORE:  18  /  549  --- RECORD:  17  /  535\n",
      "GEN  2  --- BEST SCORE:  22  /  700  --- RECORD:  18  /  549\n",
      "GEN  3  --- BEST SCORE:  17  /  544  --- RECORD:  22  /  700\n"
     ]
    }
   ],
   "source": [
    "# ---------- Machine Learning main logic ---------- \n",
    "# Restore weights from previous training if required\n",
    "if restore_weights_prev_training == 1:\n",
    "    restored_data = np.load(\"./training_history.npy\", allow_pickle=True)\n",
    "\n",
    "# Create 'N' games + their ANN instances\n",
    "record_score, record_w_score = 0, 0\n",
    "s_board = SnakeBoard(n_games_per_gen)\n",
    "s_games, s_ann = [] , []\n",
    "for i in range(n_games_per_gen):\n",
    "    s_games.append(SnakeGame(s_board))\n",
    "    s_ann.append(NeuralNetwork())\n",
    "    if restore_weights_prev_training == 1:\n",
    "        s_ann[-1].set_weights_biases(restored_data[0][-1].weights, restored_data[0][-1].biases)\n",
    "\n",
    "# Create history of the best scores and ANN weights\n",
    "best_score_history, best_ann_weights_history = list(), list()\n",
    "if restore_weights_prev_training == 1:\n",
    "    best_score_history = restored_data[1]\n",
    "    best_ann_weights_history = restored_data[0]\n",
    "\n",
    "s_board.init_board()\n",
    "\n",
    "# Run number of generations\n",
    "for idx_gen in range(n_of_gens):\n",
    "    # 1 Step all games in current generation (until all games are over)\n",
    "    while True:     \n",
    "        game_status = list() \n",
    "        # 1_1 Go into each game to step individually\n",
    "        for idx_game, game in enumerate(s_games):\n",
    "            \n",
    "            #1_1_1 Get current game state and decide the next move\n",
    "            state = game.get_game_state()\n",
    "            if manual_play == 1:\n",
    "                next_move = game.get_key()\n",
    "            else:\n",
    "                next_move = s_ann[idx_game].calculate(state) \n",
    "                if next_move == 0: next_move = \"IDLE\"\n",
    "                elif next_move == 1: next_move = \"T_LEFT\"\n",
    "                elif next_move == 2: next_move = \"T_RIGHT\"\n",
    "\n",
    "            #1_1_2 Step game instance based on ANN calc. next move\n",
    "            [game_over, w_score, score] = game.step_game(next_move)\n",
    "\n",
    "            #1_1_3 Save game data in game status dictionary array\n",
    "            game_status.append({\"game_over\":    game_over, \n",
    "                                \"score\":        score, \n",
    "                                \"w_score\":      w_score, \n",
    "                                \"idx_game\":     idx_game})       \n",
    "\n",
    "        # 1_2 Update graphics of all games (visual feedback)\n",
    "        if show_visuals == 1:\n",
    "            s_board.clear_board()\n",
    "            s_board.update_board_elements(s_games)\n",
    "\n",
    "        # 1_3 If all game instances are over, finish current generation\n",
    "        if np.min([g[\"game_over\"] for g in game_status])==True:\n",
    "            break\n",
    "    \n",
    "    # 2 Get best score + ANN in prev. generation\n",
    "    game_status.sort(key=lambda x:x[\"w_score\"],reverse =True) # Sort from best to worst game\n",
    "    game_status_best = game_status[0]\n",
    "    best_score_history = np.append(best_score_history,game_status_best[\"score\"])\n",
    "    best_ann_weights_history = np.append(best_ann_weights_history,s_ann[game_status_best[\"idx_game\"]])\n",
    "    print(\"GEN \", idx_gen, \" --- BEST SCORE: \", \n",
    "            game_status_best[\"score\"] , \" / \", \n",
    "            game_status_best[\"w_score\"] , \" --- RECORD: \",\n",
    "            record_score, \" / \", record_w_score)\n",
    "\n",
    "    # 3 If best score in curr. gen is an all-time record, save it\n",
    "    if game_status_best[\"w_score\"] > record_w_score:\n",
    "        record_w_score = game_status_best[\"w_score\"]\n",
    "        record_score = game_status_best[\"score\"]\n",
    "    \n",
    "    # 4 Get the best \"selected_games_per_gen\" games in the current generation\n",
    "    # and place them in the first positions\n",
    "    for i in range(selected_games_per_gen):\n",
    "        s_ann[i] = s_ann[game_status[i][\"idx_game\"]].copy()\n",
    "    \n",
    "    # 5 Mutate the best ones in the subsequent positions\n",
    "    for i in range(selected_games_per_gen, n_games_per_gen):\n",
    "        s_ann[i] = s_ann[np.mod(i,selected_games_per_gen)].copy()\n",
    "        s_ann[i].mutate(mrate_weights, msize_weights, mrate_bias, msize_bias) # random mutations\n",
    "\n",
    "    # 6 Reset all games\n",
    "    for idx_game, game in enumerate(s_games):\n",
    "        game.reset_game()\n",
    "\n",
    "    # 7 Save weights in an external file when applicable\n",
    "    if np.mod(idx_gen,n_gens_2_save_weights)==0:\n",
    "        np.save(\"./training_history.npy\",[best_ann_weights_history, best_score_history])\n",
    "    \n",
    "    time.sleep(t_between_gen)\n",
    "\n",
    "s_board.quit_board()"
   ]
  },
  {
   "cell_type": "code",
   "execution_count": null,
   "metadata": {},
   "outputs": [],
   "source": []
  }
 ],
 "metadata": {
  "kernelspec": {
   "display_name": "Python 3",
   "language": "python",
   "name": "python3"
  },
  "language_info": {
   "codemirror_mode": {
    "name": "ipython",
    "version": 3
   },
   "file_extension": ".py",
   "mimetype": "text/x-python",
   "name": "python",
   "nbconvert_exporter": "python",
   "pygments_lexer": "ipython3",
   "version": "3.9.2"
  }
 },
 "nbformat": 4,
 "nbformat_minor": 2
}
