{
 "cells": [
  {
   "cell_type": "code",
   "execution_count": 1,
   "metadata": {},
   "outputs": [
    {
     "name": "stdout",
     "output_type": "stream",
     "text": [
      "pygame 2.5.2 (SDL 2.28.3, Python 3.11.6)\n",
      "Hello from the pygame community. https://www.pygame.org/contribute.html\n",
      "SnakeBoard instance created.\n",
      "SnakeGame instance created.\n",
      "AHEAD:  0.8666666666666667  - LAT:  0.1333333333333333\n",
      "AHEAD:  0.8  - LAT:  0.1333333333333333\n",
      "AHEAD:  0.7333333333333333  - LAT:  0.1333333333333333\n",
      "AHEAD:  0.6666666666666666  - LAT:  0.1333333333333333\n",
      "AHEAD:  0.6  - LAT:  0.1333333333333333\n",
      "AHEAD:  0.5333333333333333  - LAT:  0.1333333333333333\n",
      "AHEAD:  0.4666666666666667  - LAT:  0.1333333333333333\n",
      "AHEAD:  0.4  - LAT:  0.1333333333333333\n",
      "AHEAD:  0.3333333333333333  - LAT:  0.1333333333333333\n",
      "AHEAD:  0.26666666666666666  - LAT:  0.1333333333333333\n",
      "AHEAD:  0.2  - LAT:  0.1333333333333333\n",
      "AHEAD:  0.13333333333333333  - LAT:  0.1333333333333333\n",
      "AHEAD:  0.06666666666666667  - LAT:  0.1333333333333333\n",
      "AHEAD:  0.0  - LAT:  0.1333333333333333\n",
      "AHEAD:  0.8  - LAT:  0.0\n",
      "AHEAD:  0.7333333333333333  - LAT:  0.0\n",
      "AHEAD:  0.6666666666666666  - LAT:  0.0\n",
      "AHEAD:  0.6  - LAT:  0.0\n",
      "AHEAD:  0.5333333333333333  - LAT:  0.0\n",
      "AHEAD:  0.4666666666666667  - LAT:  0.0\n",
      "AHEAD:  0.4  - LAT:  0.0\n",
      "AHEAD:  0.3333333333333333  - LAT:  0.0\n",
      "AHEAD:  0.26666666666666666  - LAT:  0.0\n",
      "AHEAD:  0.2  - LAT:  0.0\n",
      "AHEAD:  0.13333333333333333  - LAT:  0.0\n",
      "AHEAD:  0.06666666666666667  - LAT:  0.0\n",
      "AHEAD:  0.0  - LAT:  0.0\n",
      "AHEAD:  0.9333333333333333  - LAT:  0.0\n",
      "AHEAD:  0.8666666666666667  - LAT:  0.0\n",
      "AHEAD:  0.8  - LAT:  0.0\n",
      "AHEAD:  0.7333333333333334  - LAT:  0.0\n",
      "AHEAD:  0.6666666666666667  - LAT:  0.0\n",
      "AHEAD:  0.6  - LAT:  0.0\n",
      "AHEAD:  0.5333333333333333  - LAT:  0.0\n",
      "AHEAD:  0.4666666666666667  - LAT:  0.0\n",
      "AHEAD:  0.4  - LAT:  0.0\n",
      "AHEAD:  0.33333333333333337  - LAT:  0.0\n",
      "AHEAD:  0.2666666666666667  - LAT:  0.0\n",
      "AHEAD:  0.19999999999999996  - LAT:  0.0\n",
      "AHEAD:  0.1333333333333333  - LAT:  0.0\n",
      "AHEAD:  0.06666666666666665  - LAT:  0.0\n",
      "AHEAD:  0.0  - LAT:  0.0\n",
      "AHEAD:  0.9333333333333333  - LAT:  0.0\n",
      "AHEAD:  0.8666666666666667  - LAT:  0.0\n",
      "AHEAD:  0.8  - LAT:  0.0\n",
      "AHEAD:  0.7333333333333334  - LAT:  0.0\n",
      "AHEAD:  0.6666666666666667  - LAT:  0.0\n",
      "AHEAD:  0.6  - LAT:  0.0\n",
      "AHEAD:  0.5333333333333333  - LAT:  0.0\n",
      "AHEAD:  0.4666666666666667  - LAT:  0.0\n",
      "AHEAD:  0.4  - LAT:  0.0\n",
      "AHEAD:  0.33333333333333337  - LAT:  0.0\n",
      "AHEAD:  0.2666666666666667  - LAT:  0.0\n",
      "AHEAD:  0.19999999999999996  - LAT:  0.0\n",
      "AHEAD:  0.1333333333333333  - LAT:  0.0\n",
      "AHEAD:  0.06666666666666665  - LAT:  0.0\n",
      "AHEAD:  0.0  - LAT:  0.0\n",
      "AHEAD:  0.9333333333333333  - LAT:  0.0\n",
      "AHEAD:  0.8666666666666667  - LAT:  0.0\n",
      "AHEAD:  0.8  - LAT:  0.0\n",
      "AHEAD:  0.7333333333333333  - LAT:  0.0\n",
      "AHEAD:  0.6666666666666666  - LAT:  0.0\n",
      "AHEAD:  0.6  - LAT:  0.0\n",
      "AHEAD:  0.9333333333333333  - LAT:  0.6\n",
      "AHEAD:  0.8666666666666667  - LAT:  0.6\n",
      "AHEAD:  0.5333333333333333  - LAT:  0.1333333333333333\n",
      "AHEAD:  0.4666666666666667  - LAT:  0.1333333333333333\n",
      "AHEAD:  0.4  - LAT:  0.1333333333333333\n",
      "AHEAD:  0.06666666666666665  - LAT:  0.6\n",
      "AHEAD:  0.0  - LAT:  0.6\n",
      "AHEAD:  0.5333333333333333  - LAT:  1.0\n",
      "AHEAD:  0.4666666666666667  - LAT:  1.0\n",
      "AHEAD:  0.4  - LAT:  1.0\n",
      "AHEAD:  0.33333333333333337  - LAT:  1.0\n",
      "AHEAD:  0.2666666666666667  - LAT:  1.0\n",
      "AHEAD:  0.19999999999999996  - LAT:  1.0\n",
      "AHEAD:  0.1333333333333333  - LAT:  1.0\n",
      "AHEAD:  0.06666666666666665  - LAT:  1.0\n",
      "AHEAD:  0.0  - LAT:  1.0\n",
      "AHEAD:  0.9333333333333333  - LAT:  1.0\n",
      "AHEAD:  0.8666666666666667  - LAT:  1.0\n",
      "AHEAD:  0.8  - LAT:  1.0\n",
      "AHEAD:  0.7333333333333333  - LAT:  1.0\n",
      "AHEAD:  0.6666666666666666  - LAT:  1.0\n",
      "AHEAD:  0.6  - LAT:  1.0\n",
      "AHEAD:  0.5333333333333333  - LAT:  1.0\n",
      "AHEAD:  0.4666666666666667  - LAT:  1.0\n",
      "AHEAD:  0.4  - LAT:  1.0\n",
      "AHEAD:  0.3333333333333333  - LAT:  1.0\n",
      "AHEAD:  0.26666666666666666  - LAT:  1.0\n",
      "AHEAD:  0.2  - LAT:  1.0\n",
      "AHEAD:  0.13333333333333333  - LAT:  1.0\n",
      "AHEAD:  0.06666666666666667  - LAT:  1.0\n",
      "AHEAD:  0.0  - LAT:  1.0\n",
      " ----- BEST SCORE:  1  -----\n",
      "AHEAD:  0.8666666666666667  - LAT:  0.1333333333333333\n",
      "AHEAD:  0.8  - LAT:  0.1333333333333333\n",
      "AHEAD:  0.7333333333333333  - LAT:  0.1333333333333333\n",
      "AHEAD:  0.6666666666666666  - LAT:  0.1333333333333333\n",
      "AHEAD:  0.6  - LAT:  0.1333333333333333\n",
      "AHEAD:  0.5333333333333333  - LAT:  0.1333333333333333\n",
      "AHEAD:  0.4666666666666667  - LAT:  0.1333333333333333\n",
      "AHEAD:  0.4  - LAT:  0.1333333333333333\n",
      "AHEAD:  0.3333333333333333  - LAT:  0.1333333333333333\n"
     ]
    }
   ],
   "source": [
    "from SnakeBoard import SnakeBoard\n",
    "from SnakeGame import SnakeGame\n",
    "from NeuralNetwork import NeuralNetwork\n",
    "import numpy as np\n",
    "import time\n",
    "import matplotlib.pyplot as plt\n",
    "\n",
    "n_games_per_gen = 1\n",
    "n_gen = 100\n",
    "t_between_gen = 0\n",
    "\n",
    "# Create game + ANN instances\n",
    "record_score = 0\n",
    "s_board = SnakeBoard(n_games_per_gen)\n",
    "s_games = []\n",
    "s_ann = []\n",
    "for i in range(n_games_per_gen):\n",
    "    s_games.append(SnakeGame(s_board))\n",
    "    s_ann.append(NeuralNetwork())\n",
    "s_board.init_board()\n",
    "\n",
    "# Run number of generations\n",
    "best_score_history = list()\n",
    "best_ann_history = list()\n",
    "for idx_gen in range(n_gen):\n",
    "\n",
    "    # Run until all games are over\n",
    "    while True:     \n",
    "        # Apply next move and recalculate (step) all games\n",
    "        game_status = list() \n",
    "        for idx_game, game in enumerate(s_games):\n",
    "            \n",
    "            # Get current game state and decide the next move\n",
    "            state = game.get_game_state()\n",
    "            next_move = game.get_key()\n",
    "            \n",
    "            \"\"\"\n",
    "            next_move = s_ann[idx_game].calculate(state) \n",
    "            if next_move == 0: next_move = \"IDLE\"\n",
    "            elif next_move == 1: next_move = \"T_LEFT\"\n",
    "            elif next_move == 2: next_move = \"T_RIGHT\"\n",
    "            \"\"\"\n",
    "            # Step game instance based on next move\n",
    "            [game_over, score] = game.step_game(next_move)\n",
    "\n",
    "            # Save game data\n",
    "            game_status.append([game_over, score])       \n",
    "\n",
    "        # Update graphics of all games\n",
    "        s_board.clear_board()\n",
    "        s_board.update_board_elements(s_games)\n",
    "\n",
    "        game_over_list = [g[0] for g in game_status]\n",
    "        if np.min(game_over_list)==True:\n",
    "            break\n",
    "    \n",
    "    # Get best score + ANN in prev. generation\n",
    "    max_res_gen = max(enumerate([g[1] for g in game_status]),key=lambda x: x[1])\n",
    "    print(\" ----- BEST SCORE: \", (max_res_gen[1]), \" -----\")\n",
    "    best_score_history.append(max_res_gen[1])\n",
    "    best_ann_history.append(s_ann[max_res_gen[0]])\n",
    "    \n",
    "    # If best score in curr. generation is a record, use it as baseline for the mutations\n",
    "    if max_res_gen[1] > record_score:\n",
    "        record_score = max_res_gen[1]\n",
    "        s_ann[0] = s_ann[max_res_gen[0]] # Move best result to first\n",
    "    for i in range(n_games_per_gen-1):\n",
    "        s_ann[i+1] = s_ann[0].copy()\n",
    "        s_ann[i+1].mutate(0.2, 0.2, 0.2, 0.2) # random mutations\n",
    "\n",
    "    #Reset all games once they're finished\n",
    "    for idx_game, game in enumerate(s_games):\n",
    "        game.reset_game()\n",
    "    \n",
    "    time.sleep(t_between_gen)\n",
    "\n",
    "s_board.quit_board()"
   ]
  },
  {
   "cell_type": "code",
   "execution_count": null,
   "metadata": {},
   "outputs": [
    {
     "data": {
      "text/plain": [
       "[<matplotlib.lines.Line2D at 0x1ddbe9593d0>]"
      ]
     },
     "execution_count": 2,
     "metadata": {},
     "output_type": "execute_result"
    },
    {
     "data": {
      "image/png": "[encoded data removed]",
      "text/plain": [
       "<Figure size 640x480 with 1 Axes>"
      ]
     },
     "metadata": {},
     "output_type": "display_data"
    }
   ],
   "source": [
    "plt.plot(best_score_history)"
   ]
  },
  {
   "cell_type": "code",
   "execution_count": null,
   "metadata": {},
   "outputs": [
    {
     "data": {
      "text/plain": [
       "0.04976466474747146"
      ]
     },
     "execution_count": 9,
     "metadata": {},
     "output_type": "execute_result"
    }
   ],
   "source": [
    "0.9997**10000"
   ]
  },
  {
   "cell_type": "code",
   "execution_count": null,
   "metadata": {},
   "outputs": [
    {
     "data": {
      "text/plain": [
       "[<matplotlib.lines.Line2D at 0x2584d451790>]"
      ]
     },
     "execution_count": 31,
     "metadata": {},
     "output_type": "execute_result"
    },
    {
     "data": {
      "image/png": "[encoded data removed]",
      "text/plain": [
       "<Figure size 640x480 with 1 Axes>"
      ]
     },
     "metadata": {},
     "output_type": "display_data"
    }
   ],
   "source": [
    "fin_val = 0.01\n",
    "steps = 100\n",
    "\n",
    "\n",
    "x = []\n",
    "for step_no in range(99):\n",
    "    i =  np.exp(-1* ( step_no - steps) ) / np.exp(1*steps)\n",
    "    x.append(i)\n",
    "    #print(i)\n",
    "\n",
    "plt.plot(x)"
   ]
  },
  {
   "cell_type": "code",
   "execution_count": null,
   "metadata": {},
   "outputs": [
    {
     "data": {
      "text/plain": [
       "0.5"
      ]
     },
     "execution_count": 2,
     "metadata": {},
     "output_type": "execute_result"
    }
   ],
   "source": [
    "arr = [-2, -1 , 0.5 , 1,2]\n",
    "\n",
    "min([i for i in arr if i > 0]) # min positive\n",
    "min([i for i in arr if i < 0]) # min negative\n",
    "min(arr, key=lambda x: abs(x)) # closest to zero"
   ]
  },
  {
   "cell_type": "code",
   "execution_count": null,
   "metadata": {},
   "outputs": [],
   "source": [
    "import math\n",
    "def tanh(x):\n",
    "    for i,v in enumerate(x):\n",
    "        x[i]=math.tanh(v)\n",
    "    return x"
   ]
  },
  {
   "cell_type": "code",
   "execution_count": null,
   "metadata": {},
   "outputs": [
    {
     "data": {
      "text/plain": [
       "[0.09966799462495582, 0.9640275800758169, 1.0, 1.0]"
      ]
     },
     "execution_count": 11,
     "metadata": {},
     "output_type": "execute_result"
    }
   ],
   "source": [
    "tanh([0.1,2,20,500])"
   ]
  },
  {
   "cell_type": "code",
   "execution_count": null,
   "metadata": {},
   "outputs": [],
   "source": []
  }
 ],
 "metadata": {
  "kernelspec": {
   "display_name": "Python 3",
   "language": "python",
   "name": "python3"
  },
  "language_info": {
   "codemirror_mode": {
    "name": "ipython",
    "version": 3
   },
   "file_extension": ".py",
   "mimetype": "text/x-python",
   "name": "python",
   "nbconvert_exporter": "python",
   "pygments_lexer": "ipython3",
   "version": "3.11.6"
  }
 },
 "nbformat": 4,
 "nbformat_minor": 2
}
